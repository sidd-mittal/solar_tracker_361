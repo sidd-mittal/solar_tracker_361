{
 "cells": [
  {
   "cell_type": "markdown",
   "metadata": {},
   "source": [
    "## Arduino Data Logging in Python"
   ]
  },
  {
   "cell_type": "code",
   "execution_count": 6,
   "metadata": {},
   "outputs": [
    {
     "name": "stdout",
     "output_type": "stream",
     "text": [
      "43.4757 -79.6591\n"
     ]
    }
   ],
   "source": [
    "import serial\n",
    "import serial.tools.list_ports\n",
    "import csv\n",
    "import datetime\n",
    "import geocoder\n",
    "g = geocoder.ip('me')\n",
    "latitude = g.latlng[0]\n",
    "longitude = g.latlng[1]\n",
    "print(latitude, longitude)\n"
   ]
  },
  {
   "cell_type": "code",
   "execution_count": 7,
   "metadata": {},
   "outputs": [
    {
     "name": "stdout",
     "output_type": "stream",
     "text": [
      "2023-07-09 02:10:56.432025\n"
     ]
    }
   ],
   "source": [
    "today = datetime.datetime.now()\n",
    "print(datetime.datetime.now())"
   ]
  },
  {
   "cell_type": "code",
   "execution_count": 8,
   "metadata": {},
   "outputs": [],
   "source": [
    "run sun.py"
   ]
  },
  {
   "cell_type": "code",
   "execution_count": 17,
   "metadata": {},
   "outputs": [
    {
     "name": "stdout",
     "output_type": "stream",
     "text": [
      "28.475700000000003\n",
      "312.6629028600872 -8.791873451350526\n",
      "312.6396677161416 -8.810931451811388\n"
     ]
    }
   ],
   "source": [
    "if today.month in [10, 11,12,1,2, 3]: #in winter months, latitude + 15\n",
    "    tilt_angle = latitude + 15\n",
    "elif today.month in [4,5,6, 7, 8, 9]: #in summer months, latitude - 15\n",
    "    tilt_angle = latitude - 15\n",
    "\n",
    "print(tilt_angle)\n",
    "\n",
    "elevation, azimuth = sunPosition(2022, today.month, today.day, today.hour)\n",
    "elevation2, azimuth2 = sunPosition(2021, today.month, today.day, today.hour)\n",
    "\n",
    "print(elevation, azimuth)\n",
    "print(elevation2, azimuth2)\n"
   ]
  },
  {
   "cell_type": "markdown",
   "metadata": {},
   "source": [
    "### Find port"
   ]
  },
  {
   "cell_type": "code",
   "execution_count": 11,
   "metadata": {},
   "outputs": [
    {
     "name": "stdout",
     "output_type": "stream",
     "text": [
      "0: COM5\n",
      "1: COM6\n"
     ]
    }
   ],
   "source": [
    "ports = serial.tools.list_ports.comports()\n",
    "\n",
    "for i,port in enumerate(ports): \n",
    "    print(str(i) + ': ' + port.device)"
   ]
  },
  {
   "cell_type": "markdown",
   "metadata": {},
   "source": [
    "### Select Port"
   ]
  },
  {
   "cell_type": "code",
   "execution_count": null,
   "metadata": {},
   "outputs": [],
   "source": [
    "# Change \"4\" to ESP32 bluetooth port\n",
    "port = ports[1].device\n",
    "\n",
    "comm_rate = 115200 #baud\n",
    "fname = \"data.csv\" #location\n",
    "\n",
    "#Begin communication\n",
    "ser = serial.Serial(port, comm_rate)"
   ]
  },
  {
   "cell_type": "markdown",
   "metadata": {},
   "source": [
    "### (Optional) Send message to MCU to initiate operation"
   ]
  },
  {
   "cell_type": "code",
   "execution_count": null,
   "metadata": {},
   "outputs": [],
   "source": [
    "ser.write(bytes(tile_angle, 'utf-8'))"
   ]
  },
  {
   "cell_type": "markdown",
   "metadata": {},
   "source": [
    "### Receive communication\n",
    "Loop this to receive ongoing messages, modify to append data to file, or to an array, etc. "
   ]
  },
  {
   "cell_type": "code",
   "execution_count": null,
   "metadata": {},
   "outputs": [],
   "source": [
    "file = open(fname, \"a\")\n",
    "getData=ser.readline()\n",
    "dataString = getData.decode('utf-8')[:-2]"
   ]
  },
  {
   "cell_type": "code",
   "execution_count": null,
   "metadata": {},
   "outputs": [],
   "source": []
  },
  {
   "cell_type": "code",
   "execution_count": null,
   "metadata": {},
   "outputs": [],
   "source": []
  }
 ],
 "metadata": {
  "kernelspec": {
   "display_name": "Python 3 (ipykernel)",
   "language": "python",
   "name": "python3"
  },
  "language_info": {
   "codemirror_mode": {
    "name": "ipython",
    "version": 3
   },
   "file_extension": ".py",
   "mimetype": "text/x-python",
   "name": "python",
   "nbconvert_exporter": "python",
   "pygments_lexer": "ipython3",
   "version": "3.9.13"
  }
 },
 "nbformat": 4,
 "nbformat_minor": 4
}
