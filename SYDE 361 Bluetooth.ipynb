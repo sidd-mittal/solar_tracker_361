{
 "cells": [
  {
   "cell_type": "markdown",
   "metadata": {},
   "source": [
    "## Arduino Data Logging in Python"
   ]
  },
  {
   "cell_type": "code",
<<<<<<< HEAD
   "execution_count": 78,
=======
   "execution_count": 4,
>>>>>>> 456553f7cfcd37285af7e88f04e48b2713ace8bd
   "metadata": {},
   "outputs": [
    {
     "name": "stdout",
     "output_type": "stream",
     "text": [
<<<<<<< HEAD
      "43.4715 -80.5454\n"
=======
      "43.7001 -79.4163\n"
>>>>>>> 456553f7cfcd37285af7e88f04e48b2713ace8bd
     ]
    }
   ],
   "source": [
    "import serial\n",
    "import serial.tools.list_ports\n",
    "import csv\n",
    "import datetime\n",
    "import geocoder\n",
    "g = geocoder.ip('me')\n",
    "latitude = g.latlng[0]\n",
    "longitude = g.latlng[1]\n",
    "print(latitude, longitude)\n",
    "\n"
   ]
  },
  {
   "cell_type": "code",
<<<<<<< HEAD
   "execution_count": 79,
=======
   "execution_count": 3,
>>>>>>> 456553f7cfcd37285af7e88f04e48b2713ace8bd
   "metadata": {},
   "outputs": [
    {
     "name": "stdout",
     "output_type": "stream",
     "text": [
<<<<<<< HEAD
      "2023-07-09 18:06:04.484691\n"
=======
      "Defaulting to user installation because normal site-packages is not writeable\n",
      "Collecting geocoder\n",
      "  Using cached geocoder-1.38.1-py2.py3-none-any.whl (98 kB)\n",
      "Collecting requests\n",
      "  Downloading requests-2.31.0-py3-none-any.whl (62 kB)\n",
      "Requirement already satisfied: future in c:\\users\\skyle\\appdata\\roaming\\python\\python37\\site-packages (from geocoder) (0.18.3)\n",
      "Requirement already satisfied: six in c:\\users\\skyle\\appdata\\roaming\\python\\python37\\site-packages (from geocoder) (1.15.0)\n",
      "Collecting ratelim\n",
      "  Using cached ratelim-0.1.6-py2.py3-none-any.whl (4.0 kB)\n",
      "Collecting click\n",
      "  Downloading click-8.1.4-py3-none-any.whl (98 kB)\n",
      "Collecting urllib3<3,>=1.21.1\n",
      "  Downloading urllib3-2.0.3-py3-none-any.whl (123 kB)\n",
      "Collecting charset-normalizer<4,>=2\n",
      "  Downloading charset_normalizer-3.2.0-cp37-cp37m-win_amd64.whl (94 kB)\n",
      "Collecting certifi>=2017.4.17\n",
      "  Downloading certifi-2023.5.7-py3-none-any.whl (156 kB)\n",
      "Collecting idna<4,>=2.5\n",
      "  Using cached idna-3.4-py3-none-any.whl (61 kB)\n",
      "Requirement already satisfied: decorator in c:\\users\\skyle\\appdata\\roaming\\python\\python37\\site-packages (from ratelim->geocoder) (5.1.1)\n",
      "Collecting importlib-metadata; python_version < \"3.8\"\n",
      "  Downloading importlib_metadata-6.7.0-py3-none-any.whl (22 kB)\n",
      "Requirement already satisfied: colorama; platform_system == \"Windows\" in c:\\users\\skyle\\appdata\\roaming\\python\\python37\\site-packages (from click->geocoder) (0.4.6)\n",
      "Collecting zipp>=0.5\n",
      "  Using cached zipp-3.15.0-py3-none-any.whl (6.8 kB)\n",
      "Collecting typing-extensions>=3.6.4; python_version < \"3.8\"\n",
      "  Downloading typing_extensions-4.7.1-py3-none-any.whl (33 kB)\n",
      "Installing collected packages: urllib3, charset-normalizer, certifi, idna, requests, ratelim, zipp, typing-extensions, importlib-metadata, click, geocoder\n",
      "Successfully installed certifi-2023.5.7 charset-normalizer-3.2.0 click-8.1.4 geocoder-1.38.1 idna-3.4 importlib-metadata-6.7.0 ratelim-0.1.6 requests-2.31.0 typing-extensions-4.7.1 urllib3-2.0.3 zipp-3.15.0\n",
      "Note: you may need to restart the kernel to use updated packages.\n"
     ]
    },
    {
     "name": "stderr",
     "output_type": "stream",
     "text": [
      "WARNING: You are using pip version 20.1.1; however, version 23.1.2 is available.\n",
      "You should consider upgrading via the 'c:\\Program Files (x86)\\Microsoft Visual Studio\\Shared\\Python37_64\\python.exe -m pip install --upgrade pip' command.\n"
>>>>>>> 456553f7cfcd37285af7e88f04e48b2713ace8bd
     ]
    }
   ],
   "source": []
  },
  {
   "cell_type": "code",
   "execution_count": 4,
   "metadata": {},
   "outputs": [
    {
     "name": "stdout",
     "output_type": "stream",
     "text": [
      "2023-07-09 14:36:43.791468\n"
     ]
    }
   ],
   "source": []
  },
  {
   "cell_type": "code",
   "execution_count": 80,
   "metadata": {},
   "outputs": [],
   "source": [
    "run sun.py"
   ]
  },
  {
   "cell_type": "code",
<<<<<<< HEAD
   "execution_count": 81,
=======
   "execution_count": 11,
   "metadata": {},
   "outputs": [],
   "source": [
    "#Functions from A1\n",
    "\n",
    "def I_t(el):\n",
    "    # negative elevation not meaningful\n",
    "    el2 = el.copy()\n",
    "    el2[el2<0] = 0\n",
    "    AM = 1/np.cos(np.radians(90-el2))\n",
    "    I = 1.1*(1353*0.7**AM**0.678)\n",
    "    return I\n",
    "\n",
    "def current(el, area):\n",
    "    a_m2 = area/10000\n",
    "    power = I_t(el)*a_m2*0.2 # energy/area * area * efficiency\n",
    "    current = power/5 #volts\n",
    "    return current*1000\n",
    "\n",
    "def R_opt(beta_ax, az_ax, el, az,limit=90):\n",
    "    beta_ax = np.radians(beta_ax)\n",
    "    az_ax = np.radians(az_ax)\n",
    "    \n",
    "    zen = np.radians(90 - el)\n",
    "    \n",
    "    azrad = np.radians(az)\n",
    "        \n",
    "    arg = np.sin(zen)*np.sin(azrad-az_ax)/ \\\n",
    "            (np.sin(zen)*np.cos(azrad-az_ax)*np.sin(beta_ax) \\\n",
    "             + np.cos(zen)*np.cos(beta_ax))\n",
    "    \n",
    "    phi = np.where((arg < 0) & ((azrad-az_ax) > 0) , 180, \n",
    "            np.where((arg > 0) & ((azrad-az_ax) < 0), -180,0))\n",
    "    \n",
    "    \n",
    "    R = np.degrees(np.arctan(arg)) + phi\n",
    "    \n",
    "    R[R>90] = limit\n",
    "    R[R<-90] = -limit\n",
    "    \n",
    "    return R\n",
    "\n",
    "def inc_SA(R, beta_ax, az_ax, el, az): \n",
    "    assert R.shape[0] == el.shape[0]\n",
    "    R = np.radians(R)\n",
    "    beta_ax = np.radians(beta_ax)\n",
    "    az_ax = np.radians(az_ax)\n",
    "    el = np.radians(90-el)\n",
    "    az = np.radians(az)\n",
    "    \n",
    "    arg = np.cos(R)*(np.sin(el)*np.cos(az-az_ax)*np.sin(beta_ax) \\\n",
    "                    +np.cos(el)*np.cos(beta_ax)) + \\\n",
    "                    np.sin(R)*np.sin(el)*np.sin(az-az_ax)\n",
    "    return np.degrees(np.arccos(arg))\n",
    "\n",
    "def power(el, az, area, period, motor_power, ret_error = False):\n",
    "\n",
    "    beta_ax = 20\n",
    "    az_ax = 180\n",
    "\n",
    "    # time vector \n",
    "    time = np.repeat(np.arange(0,24),60) + np.tile(np.arange(0,60),24)*1/60\n",
    "    \n",
    "    # daylight data only\n",
    "    time = time[el>0]\n",
    "    az = az[el > 0]\n",
    "    el = el[el > 0]\n",
    "\n",
    "    # create the discrete time vector with spacing of period (mins)\n",
    "    # the vector is centred around solar noon (middle of daylight)\n",
    "    tx1 = np.arange(time[int(time.shape[0]/2)],0, -period/60)\n",
    "    tx2 = np.arange(time[int(time.shape[0]/2)],time[-1], period/60)\n",
    "    tx = np.append(np.flip(tx1[1:]),tx2)\n",
    "    \n",
    "    # obtain indices in same way\n",
    "    idx1 = np.arange(int(time.shape[0]/2),0, -period)\n",
    "    idx2 = np.arange(int(time.shape[0]/2),time.shape[0], period)\n",
    "\n",
    "    #Ewe will use this index vector to discretize the Rotation array\n",
    "    idx1 = idx1[1:].repeat(period)[:int(time.shape[0]/2 - period)]\n",
    "    idx2 = idx2.repeat(period)[:int(time.shape[0]/2)]\n",
    "    idx = np.append(np.flip(idx1),idx2)\n",
    "    \n",
    "    # might need to pad the beginning and the end so idx is the correct size\n",
    "    pad = (time.shape[0] - idx.shape[0])/2\n",
    "    if pad > 0:\n",
    "        idx = np.pad(idx,int(pad),mode = 'edge')\n",
    "    if pad%2 > 0:\n",
    "        idx = np.append(idx,idx[-1])\n",
    "\n",
    "    R = R_opt(beta_ax,az_ax,el,az)\n",
    "    \n",
    "    # down-sample the rotation angle by the period\n",
    "    Rd = R[idx][:el.shape[0]]\n",
    "\n",
    "    # need power generation over the day\n",
    "    # discreted adjustment\n",
    "    inc = inc_SA(Rd, beta_ax, az_ax, el, az)\n",
    "    # continuous adjustment\n",
    "    inc_ideal = inc_SA(R, beta_ax, az_ax, el, az)\n",
    "\n",
    "    #calculate loss due to misalignment\n",
    "    cos_inc = np.cos(np.radians(inc))\n",
    "    cos_inc_ideal = np.cos(np.radians(inc_ideal))\n",
    "\n",
    "    # anything less than zero not possible  \n",
    "    cos_inc[cos_inc<0] = 0\n",
    "\n",
    "    # power: (current (mA) * volts * 1000) [Watts] * cos(theta)\n",
    "    power_ideal = current(el,area)*5/1000\n",
    "    power = power_ideal*cos_inc\n",
    "\n",
    "    power_harvested = np.trapz(power,dx=1/60) #watt-hours\n",
    "    \n",
    "    # number of changes/3600 (hours of movement) * 1.5 watts\n",
    "    power_expended = tx.shape[0]/3600*1.5 #watt hours \n",
    "    \n",
    "    # objective function\n",
    "    total = power_harvested - power_expended #watt hours \n",
    "\n",
    "    #if we want the data as a function of time (specified in input)\n",
    "    if ret_error:\n",
    "        # Loss of power over time due to discrete adjustment interval \n",
    "        error = power_ideal*cos_inc_ideal - power\n",
    "        return error, power_ideal, power, Rd\n",
    "    else:\n",
    "        return total"
   ]
  },
  {
   "cell_type": "code",
   "execution_count": 19,
>>>>>>> 456553f7cfcd37285af7e88f04e48b2713ace8bd
   "metadata": {},
   "outputs": [
    {
     "name": "stdout",
     "output_type": "stream",
     "text": [
<<<<<<< HEAD
      "28.4715\n",
      "200.3209752773437 67.73387185944078\n",
      "200.28051004348328 67.70719240373593\n"
=======
      "2023-07-10 00:37:34.992698\n",
      "Ideal interval of adjustment is 35 mins\n",
      "Ideal adjustment amount in degrees is: 6.976744186046512\n",
      "Number of Daylight Hours is: 15.05\n"
>>>>>>> 456553f7cfcd37285af7e88f04e48b2713ace8bd
     ]
    }
   ],
   "source": [
    "today = datetime.datetime.now()\n",
    "print(datetime.datetime.now())\n",
    "\n",
    "# B axis calculation\n",
    "if today.month in [10, 11,12,1,2, 3]: #in winter months, latitude + 15\n",
    "    tilt_angle = latitude + 15\n",
    "elif today.month in [4,5,6, 7, 8, 9]: #in summer months, latitude - 15\n",
    "    tilt_angle = latitude - 15\n",
    "\n",
    "\n",
    "#Initial azimuth calculation \n",
    "time_zone_shift = 4\n",
    "\n",
    "\n",
    "# def sunPosition(year, month, day, hour=12, m=0, s=0,lat=43.5, long=-80.5):\n",
    "initial_angle, el = sunPosition(year =2023, month = today.month, day = today.day, hour=today.hour+time_zone_shift, lat=latitude, long=longitude)\n",
    "\n",
    "if initial_angle < 90:\n",
    "    initial_angle = 90\n",
    "if initial_angle > 270: \n",
    "    initial_angle = 270 \n",
    "\n",
    "initial_rotation_ang = 180 - initial_angle \n",
    "\n",
    "# if rotation_ang < 0: \n",
    "#     #rotate counter clockwise\n",
    "# if rotation_ang > 0: \n",
    "#     #rotate clockwise \n",
    "\n",
    "\n",
    "#Time and amount of rotation calculation \n",
    "time_zone = 4\n",
    "hrs = np.arange(0+time_zone,24+time_zone)\n",
    "mins = np.arange(0,60)\n",
    "\n",
    "Wjun = np.array([sunPosition(year=today.year,month=today.month, day=today.day,hour=hr,m=mn, lat=latitude, long=longitude ) \n",
    "                for hr,mn in zip(np.repeat(hrs,60),np.tile(mins,24))])\n",
    "period= np.arange(1,200)#mins\n",
    "m_power = 1.2 # Watts (0.240mAh * 5V) \n",
    "area = 35 # cm^2  (5cm x 7cm)\n",
    "p = np.array([power(Wjun[:,1],Wjun[:,0],area,x,m_power) for x in period])\n",
    "print('Ideal interval of adjustment is ' + str(period[p.argmax()]) + ' mins')\n",
    "\n",
    "optimal_adjustment_mins = period[p.argmax()];\n",
    "\n",
    "\n",
    "el = Wjun[:,1]\n",
    "daylight_hours = el[el>0].shape[0]/60\n",
    "adjustment_amount_degrees = 180/((daylight_hours*60)/optimal_adjustment_mins);\n",
    "\n",
    "print(\"Ideal adjustment amount in degrees is: \" + str(adjustment_amount_degrees))\n",
    "print(\"Number of Daylight Hours is: \" + str(daylight_hours))\n",
    "\n",
    "\n",
    "\n",
    "#SEND adjusment_amount_degrees, tilt_angle AND initial_rotation_ang TO ARDUINO "
   ]
  },
  {
   "cell_type": "markdown",
   "metadata": {},
   "source": [
    "### Find port"
   ]
  },
  {
   "cell_type": "code",
<<<<<<< HEAD
   "execution_count": 82,
=======
   "execution_count": 10,
>>>>>>> 456553f7cfcd37285af7e88f04e48b2713ace8bd
   "metadata": {},
   "outputs": [
    {
     "name": "stdout",
     "output_type": "stream",
     "text": [
      "0: /dev/cu.BLTH\n",
      "1: /dev/cu.champagnepapi\n",
      "2: /dev/cu.BoseQC45\n",
      "3: /dev/cu.Bluetooth-Incoming-Port\n",
      "4: /dev/cu.usbserial-0001\n",
      "5: /dev/cu.CDB-Robichaud\n"
     ]
    }
   ],
   "source": [
    "ports = serial.tools.list_ports.comports()\n",
    "\n",
    "for i,port in enumerate(ports): \n",
    "    print(str(i) + ': ' + port.device)"
   ]
  },
  {
   "cell_type": "markdown",
   "metadata": {},
   "source": [
    "### Select Port"
   ]
  },
  {
   "cell_type": "code",
<<<<<<< HEAD
   "execution_count": 83,
=======
   "execution_count": 11,
>>>>>>> 456553f7cfcd37285af7e88f04e48b2713ace8bd
   "metadata": {},
   "outputs": [
    {
     "ename": "SerialException",
     "evalue": "could not open port 'COM6': FileNotFoundError(2, 'The system cannot find the file specified.', None, 2)",
     "output_type": "error",
     "traceback": [
      "\u001b[1;31m---------------------------------------------------------------------------\u001b[0m",
      "\u001b[1;31mSerialException\u001b[0m                           Traceback (most recent call last)",
      "\u001b[1;32m~\\AppData\\Local\\Temp\\ipykernel_28352\\1500264925.py\u001b[0m in \u001b[0;36m<module>\u001b[1;34m\u001b[0m\n\u001b[0;32m      6\u001b[0m \u001b[1;33m\u001b[0m\u001b[0m\n\u001b[0;32m      7\u001b[0m \u001b[1;31m#Begin communication\u001b[0m\u001b[1;33m\u001b[0m\u001b[1;33m\u001b[0m\u001b[0m\n\u001b[1;32m----> 8\u001b[1;33m \u001b[0mser\u001b[0m \u001b[1;33m=\u001b[0m \u001b[0mserial\u001b[0m\u001b[1;33m.\u001b[0m\u001b[0mSerial\u001b[0m\u001b[1;33m(\u001b[0m\u001b[0mport\u001b[0m\u001b[1;33m,\u001b[0m \u001b[0mcomm_rate\u001b[0m\u001b[1;33m)\u001b[0m\u001b[1;33m\u001b[0m\u001b[1;33m\u001b[0m\u001b[0m\n\u001b[0m",
      "\u001b[1;32m~\\anaconda3\\lib\\site-packages\\serial\\serialwin32.py\u001b[0m in \u001b[0;36m__init__\u001b[1;34m(self, *args, **kwargs)\u001b[0m\n\u001b[0;32m     31\u001b[0m         \u001b[0mself\u001b[0m\u001b[1;33m.\u001b[0m\u001b[0m_overlapped_read\u001b[0m \u001b[1;33m=\u001b[0m \u001b[1;32mNone\u001b[0m\u001b[1;33m\u001b[0m\u001b[1;33m\u001b[0m\u001b[0m\n\u001b[0;32m     32\u001b[0m         \u001b[0mself\u001b[0m\u001b[1;33m.\u001b[0m\u001b[0m_overlapped_write\u001b[0m \u001b[1;33m=\u001b[0m \u001b[1;32mNone\u001b[0m\u001b[1;33m\u001b[0m\u001b[1;33m\u001b[0m\u001b[0m\n\u001b[1;32m---> 33\u001b[1;33m         \u001b[0msuper\u001b[0m\u001b[1;33m(\u001b[0m\u001b[0mSerial\u001b[0m\u001b[1;33m,\u001b[0m \u001b[0mself\u001b[0m\u001b[1;33m)\u001b[0m\u001b[1;33m.\u001b[0m\u001b[0m__init__\u001b[0m\u001b[1;33m(\u001b[0m\u001b[1;33m*\u001b[0m\u001b[0margs\u001b[0m\u001b[1;33m,\u001b[0m \u001b[1;33m**\u001b[0m\u001b[0mkwargs\u001b[0m\u001b[1;33m)\u001b[0m\u001b[1;33m\u001b[0m\u001b[1;33m\u001b[0m\u001b[0m\n\u001b[0m\u001b[0;32m     34\u001b[0m \u001b[1;33m\u001b[0m\u001b[0m\n\u001b[0;32m     35\u001b[0m     \u001b[1;32mdef\u001b[0m \u001b[0mopen\u001b[0m\u001b[1;33m(\u001b[0m\u001b[0mself\u001b[0m\u001b[1;33m)\u001b[0m\u001b[1;33m:\u001b[0m\u001b[1;33m\u001b[0m\u001b[1;33m\u001b[0m\u001b[0m\n",
      "\u001b[1;32m~\\anaconda3\\lib\\site-packages\\serial\\serialutil.py\u001b[0m in \u001b[0;36m__init__\u001b[1;34m(self, port, baudrate, bytesize, parity, stopbits, timeout, xonxoff, rtscts, write_timeout, dsrdtr, inter_byte_timeout, exclusive, **kwargs)\u001b[0m\n\u001b[0;32m    242\u001b[0m \u001b[1;33m\u001b[0m\u001b[0m\n\u001b[0;32m    243\u001b[0m         \u001b[1;32mif\u001b[0m \u001b[0mport\u001b[0m \u001b[1;32mis\u001b[0m \u001b[1;32mnot\u001b[0m \u001b[1;32mNone\u001b[0m\u001b[1;33m:\u001b[0m\u001b[1;33m\u001b[0m\u001b[1;33m\u001b[0m\u001b[0m\n\u001b[1;32m--> 244\u001b[1;33m             \u001b[0mself\u001b[0m\u001b[1;33m.\u001b[0m\u001b[0mopen\u001b[0m\u001b[1;33m(\u001b[0m\u001b[1;33m)\u001b[0m\u001b[1;33m\u001b[0m\u001b[1;33m\u001b[0m\u001b[0m\n\u001b[0m\u001b[0;32m    245\u001b[0m \u001b[1;33m\u001b[0m\u001b[0m\n\u001b[0;32m    246\u001b[0m     \u001b[1;31m#  -  -  -  -  -  -  -  -  -  -  -  -  -  -  -  -  -  -  -  -  -  -  -  -\u001b[0m\u001b[1;33m\u001b[0m\u001b[1;33m\u001b[0m\u001b[0m\n",
      "\u001b[1;32m~\\anaconda3\\lib\\site-packages\\serial\\serialwin32.py\u001b[0m in \u001b[0;36mopen\u001b[1;34m(self)\u001b[0m\n\u001b[0;32m     62\u001b[0m         \u001b[1;32mif\u001b[0m \u001b[0mself\u001b[0m\u001b[1;33m.\u001b[0m\u001b[0m_port_handle\u001b[0m \u001b[1;33m==\u001b[0m \u001b[0mwin32\u001b[0m\u001b[1;33m.\u001b[0m\u001b[0mINVALID_HANDLE_VALUE\u001b[0m\u001b[1;33m:\u001b[0m\u001b[1;33m\u001b[0m\u001b[1;33m\u001b[0m\u001b[0m\n\u001b[0;32m     63\u001b[0m             \u001b[0mself\u001b[0m\u001b[1;33m.\u001b[0m\u001b[0m_port_handle\u001b[0m \u001b[1;33m=\u001b[0m \u001b[1;32mNone\u001b[0m    \u001b[1;31m# 'cause __del__ is called anyway\u001b[0m\u001b[1;33m\u001b[0m\u001b[1;33m\u001b[0m\u001b[0m\n\u001b[1;32m---> 64\u001b[1;33m             \u001b[1;32mraise\u001b[0m \u001b[0mSerialException\u001b[0m\u001b[1;33m(\u001b[0m\u001b[1;34m\"could not open port {!r}: {!r}\"\u001b[0m\u001b[1;33m.\u001b[0m\u001b[0mformat\u001b[0m\u001b[1;33m(\u001b[0m\u001b[0mself\u001b[0m\u001b[1;33m.\u001b[0m\u001b[0mportstr\u001b[0m\u001b[1;33m,\u001b[0m \u001b[0mctypes\u001b[0m\u001b[1;33m.\u001b[0m\u001b[0mWinError\u001b[0m\u001b[1;33m(\u001b[0m\u001b[1;33m)\u001b[0m\u001b[1;33m)\u001b[0m\u001b[1;33m)\u001b[0m\u001b[1;33m\u001b[0m\u001b[1;33m\u001b[0m\u001b[0m\n\u001b[0m\u001b[0;32m     65\u001b[0m \u001b[1;33m\u001b[0m\u001b[0m\n\u001b[0;32m     66\u001b[0m         \u001b[1;32mtry\u001b[0m\u001b[1;33m:\u001b[0m\u001b[1;33m\u001b[0m\u001b[1;33m\u001b[0m\u001b[0m\n",
      "\u001b[1;31mSerialException\u001b[0m: could not open port 'COM6': FileNotFoundError(2, 'The system cannot find the file specified.', None, 2)"
     ]
    }
   ],
   "source": [
    "# Change \"4\" to ESP32 bluetooth port\n",
    "port = ports[5].device\n",
    "\n",
    "comm_rate = 115200 #baud\n",
    "fname = \"data.csv\" #location\n",
    "\n",
    "#Begin communication\n",
    "ser = serial.Serial(port, comm_rate)"
   ]
  },
  {
   "cell_type": "markdown",
   "metadata": {},
   "source": [
    "### (Optional) Send message to MCU to initiate operation"
   ]
  },
  {
   "cell_type": "code",
<<<<<<< HEAD
   "execution_count": 88,
   "metadata": {},
   "outputs": [
    {
     "data": {
      "text/plain": [
       "2"
      ]
     },
     "execution_count": 88,
     "metadata": {},
     "output_type": "execute_result"
    }
   ],
   "source": [
    "ser.write(bytes(str(90), 'utf-8'))"
=======
   "execution_count": 9,
   "metadata": {},
   "outputs": [
    {
     "ename": "NameError",
     "evalue": "name 'ser' is not defined",
     "output_type": "error",
     "traceback": [
      "\u001b[1;31m---------------------------------------------------------------------------\u001b[0m",
      "\u001b[1;31mNameError\u001b[0m                                 Traceback (most recent call last)",
      "\u001b[1;32m~\\AppData\\Local\\Temp\\ipykernel_28352\\732267190.py\u001b[0m in \u001b[0;36m<module>\u001b[1;34m\u001b[0m\n\u001b[1;32m----> 1\u001b[1;33m \u001b[0mser\u001b[0m\u001b[1;33m.\u001b[0m\u001b[0mwrite\u001b[0m\u001b[1;33m(\u001b[0m\u001b[0mbytes\u001b[0m\u001b[1;33m(\u001b[0m\u001b[1;34m'hello'\u001b[0m\u001b[1;33m,\u001b[0m \u001b[1;34m'utf-8'\u001b[0m\u001b[1;33m)\u001b[0m\u001b[1;33m)\u001b[0m\u001b[1;33m\u001b[0m\u001b[1;33m\u001b[0m\u001b[0m\n\u001b[0m",
      "\u001b[1;31mNameError\u001b[0m: name 'ser' is not defined"
     ]
    }
   ],
   "source": [
    "ser.write(bytes('hello', 'utf-8'))"
>>>>>>> 456553f7cfcd37285af7e88f04e48b2713ace8bd
   ]
  },
  {
   "cell_type": "markdown",
   "metadata": {},
   "source": [
    "### Receive communication\n",
    "Loop this to receive ongoing messages, modify to append data to file, or to an array, etc. "
   ]
  },
  {
   "cell_type": "code",
   "execution_count": null,
   "metadata": {},
   "outputs": [],
   "source": [
    "file = open(fname, \"a\")\n",
    "getData=ser.readline()\n",
    "dataString = getData.decode('utf-8')[:-2]"
   ]
  },
  {
   "cell_type": "code",
   "execution_count": null,
   "metadata": {},
   "outputs": [],
   "source": []
  },
  {
   "cell_type": "code",
   "execution_count": null,
   "metadata": {},
   "outputs": [],
   "source": []
  }
 ],
 "metadata": {
  "kernelspec": {
   "display_name": "Python 3 (ipykernel)",
   "language": "python",
   "name": "python3"
  },
  "language_info": {
   "codemirror_mode": {
    "name": "ipython",
    "version": 3
   },
   "file_extension": ".py",
   "mimetype": "text/x-python",
   "name": "python",
   "nbconvert_exporter": "python",
   "pygments_lexer": "ipython3",
<<<<<<< HEAD
   "version": "3.10.9"
=======
   "version": "3.7.8"
>>>>>>> 456553f7cfcd37285af7e88f04e48b2713ace8bd
  }
 },
 "nbformat": 4,
 "nbformat_minor": 4
}
