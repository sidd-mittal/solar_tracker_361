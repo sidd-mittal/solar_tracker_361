{
 "cells": [
  {
   "cell_type": "markdown",
   "metadata": {},
   "source": [
    "## Arduino Data Logging in Python"
   ]
  },
  {
   "cell_type": "code",
   "execution_count": null,
   "metadata": {},
   "outputs": [],
   "source": [
    "# pip install pyserial\n",
    "# pip install matplotlib\n",
    "# pip install geocoder\n",
    "\n",
    "import serial\n",
    "import serial.tools.list_ports\n",
    "import csv\n",
    "import datetime\n",
    "import geocoder\n",
    "g = geocoder.ip('me')\n",
    "latitude = g.latlng[0]\n",
    "longitude = g.latlng[1]\n",
    "print(latitude, longitude)\n",
    "\n"
   ]
  },
  {
   "cell_type": "code",
   "execution_count": null,
   "metadata": {},
   "outputs": [],
   "source": [
    "run sun.py"
   ]
  },
  {
   "cell_type": "code",
   "execution_count": null,
   "metadata": {},
   "outputs": [],
   "source": [
    "#Functions from A1\n",
    "\n",
    "def I_t(el):\n",
    "    # negative elevation not meaningful\n",
    "    el2 = el.copy()\n",
    "    el2[el2<0] = 0\n",
    "    AM = 1/np.cos(np.radians(90-el2))\n",
    "    I = 1.1*(1353*0.7**AM**0.678)\n",
    "    return I\n",
    "\n",
    "def current(el, area):\n",
    "    a_m2 = area/10000\n",
    "    power = I_t(el)*a_m2*0.2 # energy/area * area * efficiency\n",
    "    current = power/5 #volts\n",
    "    return current*1000\n",
    "\n",
    "def R_opt(beta_ax, az_ax, el, az,limit=90):\n",
    "    beta_ax = np.radians(beta_ax)\n",
    "    az_ax = np.radians(az_ax)\n",
    "    \n",
    "    zen = np.radians(90 - el)\n",
    "    \n",
    "    azrad = np.radians(az)\n",
    "        \n",
    "    arg = np.sin(zen)*np.sin(azrad-az_ax)/ \\\n",
    "            (np.sin(zen)*np.cos(azrad-az_ax)*np.sin(beta_ax) \\\n",
    "             + np.cos(zen)*np.cos(beta_ax))\n",
    "    \n",
    "    phi = np.where((arg < 0) & ((azrad-az_ax) > 0) , 180, \n",
    "            np.where((arg > 0) & ((azrad-az_ax) < 0), -180,0))\n",
    "    \n",
    "    \n",
    "    R = np.degrees(np.arctan(arg)) + phi\n",
    "    \n",
    "    R[R>90] = limit\n",
    "    R[R<-90] = -limit\n",
    "    \n",
    "    return R\n",
    "\n",
    "def inc_SA(R, beta_ax, az_ax, el, az): \n",
    "    assert R.shape[0] == el.shape[0]\n",
    "    R = np.radians(R)\n",
    "    beta_ax = np.radians(beta_ax)\n",
    "    az_ax = np.radians(az_ax)\n",
    "    el = np.radians(90-el)\n",
    "    az = np.radians(az)\n",
    "    \n",
    "    arg = np.cos(R)*(np.sin(el)*np.cos(az-az_ax)*np.sin(beta_ax) \\\n",
    "                    +np.cos(el)*np.cos(beta_ax)) + \\\n",
    "                    np.sin(R)*np.sin(el)*np.sin(az-az_ax)\n",
    "    return np.degrees(np.arccos(arg))\n",
    "\n",
    "def power(el, az, area, period, motor_power,  beta_ax, ret_error = False,):\n",
    "    az_ax = 180\n",
    "\n",
    "    # time vector \n",
    "    time = np.repeat(np.arange(0,24),60) + np.tile(np.arange(0,60),24)*1/60\n",
    "    \n",
    "    # daylight data only\n",
    "    time = time[el>0]\n",
    "    az = az[el > 0]\n",
    "    el = el[el > 0]\n",
    "\n",
    "    # create the discrete time vector with spacing of period (mins)\n",
    "    # the vector is centred around solar noon (middle of daylight)\n",
    "    tx1 = np.arange(time[int(time.shape[0]/2)],0, -period/60)\n",
    "    tx2 = np.arange(time[int(time.shape[0]/2)],time[-1], period/60)\n",
    "    tx = np.append(np.flip(tx1[1:]),tx2)\n",
    "    \n",
    "    # obtain indices in same way\n",
    "    idx1 = np.arange(int(time.shape[0]/2),0, -period)\n",
    "    idx2 = np.arange(int(time.shape[0]/2),time.shape[0], period)\n",
    "\n",
    "    #Ewe will use this index vector to discretize the Rotation array\n",
    "    idx1 = idx1[1:].repeat(period)[:int(time.shape[0]/2 - period)]\n",
    "    idx2 = idx2.repeat(period)[:int(time.shape[0]/2)]\n",
    "    idx = np.append(np.flip(idx1),idx2)\n",
    "    \n",
    "    # might need to pad the beginning and the end so idx is the correct size\n",
    "    pad = (time.shape[0] - idx.shape[0])/2\n",
    "    if pad > 0:\n",
    "        idx = np.pad(idx,int(pad),mode = 'edge')\n",
    "    if pad%2 > 0:\n",
    "        idx = np.append(idx,idx[-1])\n",
    "\n",
    "    R = R_opt(beta_ax,az_ax,el,az)\n",
    "    \n",
    "    # down-sample the rotation angle by the period\n",
    "    Rd = R[idx][:el.shape[0]]\n",
    "    # need power generation over the day\n",
    "    # discreted adjustment\n",
    "    inc = inc_SA(Rd, beta_ax, az_ax, el, az)\n",
    "    # continuous adjustment\n",
    "    inc_ideal = inc_SA(R, beta_ax, az_ax, el, az)\n",
    "\n",
    "    #calculate loss due to misalignment\n",
    "    cos_inc = np.cos(np.radians(inc))\n",
    "    cos_inc_ideal = np.cos(np.radians(inc_ideal))\n",
    "\n",
    "    # anything less than zero not possible  \n",
    "    cos_inc[cos_inc<0] = 0\n",
    "\n",
    "    # power: (current (mA) * volts * 1000) [Watts] * cos(theta)\n",
    "    power_ideal = current(el,area)*5/1000\n",
    "    power = power_ideal*cos_inc\n",
    "\n",
    "    power_harvested = np.trapz(power,dx=1/60) #watt-hours\n",
    "    \n",
    "    # number of changes/3600 (hours of movement) * 1.5 watts\n",
    "    power_expended = tx.shape[0]/3600*1.5 #watt hours \n",
    "    \n",
    "    # objective function\n",
    "    total = power_harvested - power_expended #watt hours \n",
    "    \n",
    "    #if we want the data as a function of time (specified in input)\n",
    "    if ret_error:\n",
    "        # Loss of power over time due to discrete adjustment interval \n",
    "        error = power_ideal*cos_inc_ideal - power\n",
    "        return error, power_ideal, power, Rd\n",
    "    else:\n",
    "        return total"
   ]
  },
  {
   "cell_type": "code",
   "execution_count": null,
   "metadata": {},
   "outputs": [],
   "source": [
    "today = datetime.datetime.now()\n",
    "print(datetime.datetime.now())\n",
    "\n",
    "# B axis calculation\n",
    "if today.month in [10, 11,12,1,2, 3]: #in winter months, latitude + 15\n",
    "    tilt_angle = latitude + 15\n",
    "elif today.month in [4,5,6, 7, 8, 9]: #in summer months, latitude - 15\n",
    "    tilt_angle = latitude - 15\n",
    "\n",
    "\n",
    "#Initial azimuth calculation \n",
    "time_zone_shift = 4\n",
    "\n",
    "\n",
    "# def sunPosition(year, month, day, hour=12, m=0, s=0,lat=43.5, long=-80.5):\n",
    "initial_angle, el = sunPosition(year =2023, month = today.month, day = today.day, hour=today.hour+time_zone_shift, lat=latitude, long=longitude)\n",
    "\n",
    "if initial_angle < 90:\n",
    "    initial_angle = 90\n",
    "if initial_angle > 270: \n",
    "    initial_angle = 270 \n",
    "\n",
    "initial_rotation_ang = np.abs(90 - initial_angle)\n",
    "\n",
    "# if rotation_ang < 0: \n",
    "#     #rotate counter clockwise\n",
    "# if rotation_ang > 0: \n",
    "#     #rotate clockwise \n",
    "\n",
    "\n",
    "#Time and amount of rotation calculation \n",
    "time_zone = 4\n",
    "hrs = np.arange(0+time_zone,24+time_zone)\n",
    "mins = np.arange(0,60)\n",
    "\n",
    "Wjun = np.array([sunPosition(year=today.year,month=today.month, day=today.day,hour=hr,m=mn, lat=latitude, long=longitude ) \n",
    "                for hr,mn in zip(np.repeat(hrs,60),np.tile(mins,24))])\n",
    "period= np.arange(1,200)#mins\n",
    "m_power = 1.2 # Watts (0.240mAh * 5V) \n",
    "area = 35 # cm^2  (5cm x 7cm)\n",
    "p = np.array([power(Wjun[:,1],Wjun[:,0],area,x,m_power, tilt_angle) for x in period])\n",
    "print('Ideal interval of adjustment is ' + str(period[p.argmax()]) + ' mins')\n",
    "\n",
    "optimal_adjustment_mins = period[p.argmax()];\n",
    "\n",
    "\n",
    "el = Wjun[:,1]\n",
    "daylight_hours = el[el>0].shape[0]/60\n",
    "adjustment_amount_degrees = 180/((daylight_hours*60)/optimal_adjustment_mins);\n",
    "\n",
    "print(\"Ideal adjustment amount in degrees is: \" + str(adjustment_amount_degrees))\n",
    "print(\"Number of Daylight Hours is: \" + str(daylight_hours))\n",
    "print(\"Initial Rotation Angle Degrees: \" + str(initial_rotation_ang))\n",
    "print(\"Initial Tilt Angle Degrees: \" + str(tilt_angle))\n",
    "\n",
    "#SEND adjusment_amount_degrees, tilt_angle AND initial_rotation_ang TO ARDUINO "
   ]
  },
  {
   "cell_type": "markdown",
   "metadata": {},
   "source": [
    "### Find port"
   ]
  },
  {
   "cell_type": "code",
   "execution_count": 15,
   "metadata": {},
   "outputs": [
    {
     "name": "stdout",
     "output_type": "stream",
     "text": [
      "0: /dev/cu.wlan-debug\n",
      "1: /dev/cu.BeatsSolo\n",
      "2: /dev/cu.Bluetooth-Incoming-Port\n",
      "3: /dev/cu.usbserial-0001\n",
      "4: /dev/cu.SYDEGroup16\n"
     ]
    }
   ],
   "source": [
    "ports = serial.tools.list_ports.comports()\n",
    "\n",
    "for i,port in enumerate(ports): \n",
    "    print(str(i) + ': ' + port.device)"
   ]
  },
  {
   "cell_type": "markdown",
   "metadata": {},
   "source": [
    "### Select Port"
   ]
  },
  {
   "cell_type": "code",
   "execution_count": 16,
   "metadata": {},
   "outputs": [],
   "source": [
    "# Change \"4\" to ESP32 bluetooth port\n",
    "port = ports[4].device\n",
    "\n",
    "comm_rate = 115200 #baud\n",
    "fname = \"data3.csv\" #location\n",
    "\n",
    "#Begin communication\n",
    "ser = serial.Serial(port, comm_rate)"
   ]
  },
  {
   "cell_type": "markdown",
   "metadata": {},
   "source": [
    "### Send message to MCU to initiate operation"
   ]
  },
  {
   "cell_type": "code",
   "execution_count": 17,
   "metadata": {},
   "outputs": [
    {
     "data": {
      "text/plain": [
       "20"
      ]
     },
     "execution_count": 17,
     "metadata": {},
     "output_type": "execute_result"
    }
   ],
   "source": [
    "ser.write(bytes(str('A,' + str(initial_rotation_ang)), 'utf-8'))"
   ]
  },
  {
   "cell_type": "code",
   "execution_count": 67,
   "metadata": {},
   "outputs": [
    {
     "data": {
      "text/plain": [
       "9"
      ]
     },
     "execution_count": 67,
     "metadata": {},
     "output_type": "execute_result"
    }
   ],
   "source": [
    "ser.write(bytes(str('B,' + str(90-tilt_angle)), 'utf-8'))"
   ]
  },
  {
   "cell_type": "code",
   "execution_count": 68,
   "metadata": {},
   "outputs": [
    {
     "data": {
      "text/plain": [
       "22"
      ]
     },
     "execution_count": 68,
     "metadata": {},
     "output_type": "execute_result"
    }
   ],
   "source": [
    "ser.write(bytes(str('I,'+str(adjustment_amount_degrees)+','+str(optimal_adjustment_mins)), 'utf-8'))"
   ]
  },
  {
   "cell_type": "markdown",
   "metadata": {},
   "source": [
    "### Send message to MCU to initiate operation"
   ]
  },
  {
   "cell_type": "code",
   "execution_count": 65,
   "metadata": {},
   "outputs": [
    {
     "data": {
      "text/plain": [
       "3"
      ]
     },
     "execution_count": 65,
     "metadata": {},
     "output_type": "execute_result"
    }
   ],
   "source": [
    "ser.write(bytes(str('A,0'), 'utf-8'))"
   ]
  },
  {
   "cell_type": "code",
   "execution_count": 62,
   "metadata": {},
   "outputs": [
    {
     "data": {
      "text/plain": [
       "3"
      ]
     },
     "execution_count": 62,
     "metadata": {},
     "output_type": "execute_result"
    }
   ],
   "source": [
    "ser.write(bytes(str('B,0'), 'utf-8'))"
   ]
  },
  {
   "cell_type": "code",
   "execution_count": 36,
   "metadata": {},
   "outputs": [
    {
     "data": {
      "text/plain": [
       "8"
      ]
     },
     "execution_count": 36,
     "metadata": {},
     "output_type": "execute_result"
    }
   ],
   "source": [
    "ser.write(bytes(str('I,30,0.2'), 'utf-8'))"
   ]
  },
  {
   "cell_type": "markdown",
   "metadata": {},
   "source": [
    "### Receive communication\n",
    "To get data to write into the .csv file, upload the code via Arduino IDE and ensure that data is being printed to the Serial Monitor. Then switch off the serial port on the Arudino and run the code from \"Find Port\""
   ]
  },
  {
   "cell_type": "code",
   "execution_count": 14,
   "metadata": {},
   "outputs": [
    {
     "name": "stdout",
     "output_type": "stream",
     "text": [
      "b'240.50, 5.86, 10.60, 43.45\\r\\n'\n",
      "b'ets Jul 29 2019 12:21:46\\r\\n'\n",
      "b'\\r\\n'\n",
      "b'rst:0x1 (POWERON_RESET),boot:0x3 (DOWNLOAD_BOOT(UART0/UART1/SDIO_REI_REO_V2))\\r\\n'\n",
      "b'waiting for download\\r\\n'\n"
     ]
    },
    {
     "ename": "SerialException",
     "evalue": "device reports readiness to read but returned no data (device disconnected or multiple access on port?)",
     "output_type": "error",
     "traceback": [
      "\u001b[0;31m---------------------------------------------------------------------------\u001b[0m",
      "\u001b[0;31mSerialException\u001b[0m                           Traceback (most recent call last)",
      "Cell \u001b[0;32mIn[14], line 3\u001b[0m\n\u001b[1;32m      1\u001b[0m file \u001b[38;5;241m=\u001b[39m \u001b[38;5;28mopen\u001b[39m(fname, \u001b[38;5;124m\"\u001b[39m\u001b[38;5;124ma\u001b[39m\u001b[38;5;124m\"\u001b[39m)\n\u001b[1;32m      2\u001b[0m \u001b[38;5;28;01mwhile\u001b[39;00m(\u001b[38;5;241m1\u001b[39m):\n\u001b[0;32m----> 3\u001b[0m     getData\u001b[38;5;241m=\u001b[39m\u001b[43mser\u001b[49m\u001b[38;5;241;43m.\u001b[39;49m\u001b[43mreadline\u001b[49m\u001b[43m(\u001b[49m\u001b[43m)\u001b[49m\n\u001b[1;32m      4\u001b[0m     \u001b[38;5;28mprint\u001b[39m(getData)\n\u001b[1;32m      5\u001b[0m     dataString \u001b[38;5;241m=\u001b[39m getData\u001b[38;5;241m.\u001b[39mdecode(\u001b[38;5;124m'\u001b[39m\u001b[38;5;124mutf-8\u001b[39m\u001b[38;5;124m'\u001b[39m)[:\u001b[38;5;241m-\u001b[39m\u001b[38;5;241m2\u001b[39m]\n",
      "File \u001b[0;32m/Library/Frameworks/Python.framework/Versions/3.11/lib/python3.11/site-packages/serial/serialposix.py:595\u001b[0m, in \u001b[0;36mSerial.read\u001b[0;34m(self, size)\u001b[0m\n\u001b[1;32m    588\u001b[0m \u001b[38;5;28;01melse\u001b[39;00m:\n\u001b[1;32m    589\u001b[0m     \u001b[38;5;66;03m# read should always return some data as select reported it was\u001b[39;00m\n\u001b[1;32m    590\u001b[0m     \u001b[38;5;66;03m# ready to read when we get to this point.\u001b[39;00m\n\u001b[1;32m    591\u001b[0m     \u001b[38;5;28;01mif\u001b[39;00m \u001b[38;5;129;01mnot\u001b[39;00m buf:\n\u001b[1;32m    592\u001b[0m         \u001b[38;5;66;03m# Disconnected devices, at least on Linux, show the\u001b[39;00m\n\u001b[1;32m    593\u001b[0m         \u001b[38;5;66;03m# behavior that they are always ready to read immediately\u001b[39;00m\n\u001b[1;32m    594\u001b[0m         \u001b[38;5;66;03m# but reading returns nothing.\u001b[39;00m\n\u001b[0;32m--> 595\u001b[0m         \u001b[38;5;28;01mraise\u001b[39;00m SerialException(\n\u001b[1;32m    596\u001b[0m             \u001b[38;5;124m'\u001b[39m\u001b[38;5;124mdevice reports readiness to read but returned no data \u001b[39m\u001b[38;5;124m'\u001b[39m\n\u001b[1;32m    597\u001b[0m             \u001b[38;5;124m'\u001b[39m\u001b[38;5;124m(device disconnected or multiple access on port?)\u001b[39m\u001b[38;5;124m'\u001b[39m)\n\u001b[1;32m    598\u001b[0m     read\u001b[38;5;241m.\u001b[39mextend(buf)\n\u001b[1;32m    600\u001b[0m \u001b[38;5;28;01mif\u001b[39;00m timeout\u001b[38;5;241m.\u001b[39mexpired():\n",
      "\u001b[0;31mSerialException\u001b[0m: device reports readiness to read but returned no data (device disconnected or multiple access on port?)"
     ]
    }
   ],
   "source": [
    "file = open(fname, \"a\")\n",
    "while(1):\n",
    "    getData=ser.readline()\n",
    "    print(getData)\n",
    "    dataString = getData.decode('utf-8')[:-2]\n",
    "    file.write(dataString)\n",
    "    file.write('\\n')"
   ]
  },
  {
   "cell_type": "code",
   "execution_count": null,
   "metadata": {},
   "outputs": [],
   "source": [
    "file.close()"
   ]
  },
  {
   "cell_type": "code",
   "execution_count": null,
   "metadata": {},
   "outputs": [],
   "source": []
  }
 ],
 "metadata": {
  "kernelspec": {
   "display_name": "Python 3 (ipykernel)",
   "language": "python",
   "name": "python3"
  },
  "language_info": {
   "codemirror_mode": {
    "name": "ipython",
    "version": 3
   },
   "file_extension": ".py",
   "mimetype": "text/x-python",
   "name": "python",
   "nbconvert_exporter": "python",
   "pygments_lexer": "ipython3",
   "version": "3.11.3"
  }
 },
 "nbformat": 4,
 "nbformat_minor": 4
}
